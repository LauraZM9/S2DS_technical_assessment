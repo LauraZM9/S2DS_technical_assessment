{
 "cells": [
  {
   "cell_type": "markdown",
   "metadata": {},
   "source": [
    "# S2DS technical assessment\n",
    "\n",
    "---\n",
    "\n"
   ]
  },
  {
   "cell_type": "markdown",
   "metadata": {},
   "source": [
    "# Background\n",
    "This exercise will use the [Palmer penguins](https://allisonhorst.github.io/palmerpenguins/articles/art.html) dataset. It contains two tables: the raw data are contained in `penguins_raw.csv` and `penguins.csv` is a curated subset of these data. You will need both for this exercise. A description of the dataset can be found [here](https://education.rstudio.com/blog/2020/07/palmerpenguins-cran/) that includes the following background information:\n",
    "\n",
    "> The `palmerpenguins` data contains size measurements, clutch observations, and blood isotope ratios for three penguin species observed on three islands in the Palmer Archipelago, Antarctica over a study period of three years. These data were collected from 2007 - 2009 by Dr. Kristen Gorman with the Palmer Station Long Term Ecological Research Program, part of the US Long Term Ecological Research Network. The data were imported directly from the Environmental Data Initiative (EDI) Data Portal, and are available for use by CC0 license (“No Rights Reserved”) in accordance with the Palmer Station Data Policy. We gratefully acknowledge Palmer Station LTER and the US LTER Network. Special thanks to Marty Downs (Director, LTER Network Office) for help regarding the data license & use. \n",
    "\n",
    "This exercise will help Pivigo understand your coding and technical skills. It is designed to be difficult to complete in the time allowed, so don't be discouraged if you can't complete all of the questions. \n",
    "\n",
    "**Please take the time to read each question carefully!** \n",
    "\n",
    "Good luck!"
   ]
  },
  {
   "cell_type": "markdown",
   "metadata": {},
   "source": [
    "# Setup\n",
    "Install libraries and load data."
   ]
  },
  {
   "cell_type": "code",
   "execution_count": 12,
   "metadata": {},
   "outputs": [
    {
     "output_type": "execute_result",
     "data": {
      "text/plain": [
       "  studyName  Sample Number                              Species  Region  \\\n",
       "0   PAL0708              1  Adelie Penguin (Pygoscelis adeliae)  Anvers   \n",
       "1   PAL0708              2  Adelie Penguin (Pygoscelis adeliae)  Anvers   \n",
       "2   PAL0708              3  Adelie Penguin (Pygoscelis adeliae)  Anvers   \n",
       "3   PAL0708              4  Adelie Penguin (Pygoscelis adeliae)  Anvers   \n",
       "4   PAL0708              5  Adelie Penguin (Pygoscelis adeliae)  Anvers   \n",
       "5   PAL0708              6  Adelie Penguin (Pygoscelis adeliae)  Anvers   \n",
       "6   PAL0708              7  Adelie Penguin (Pygoscelis adeliae)  Anvers   \n",
       "7   PAL0708              8  Adelie Penguin (Pygoscelis adeliae)  Anvers   \n",
       "8   PAL0708              9  Adelie Penguin (Pygoscelis adeliae)  Anvers   \n",
       "9   PAL0708             10  Adelie Penguin (Pygoscelis adeliae)  Anvers   \n",
       "\n",
       "      Island               Stage Individual ID Clutch Completion    Date Egg  \\\n",
       "0  Torgersen  Adult, 1 Egg Stage          N1A1               Yes  2007-11-11   \n",
       "1  Torgersen  Adult, 1 Egg Stage          N1A2               Yes  2007-11-11   \n",
       "2  Torgersen  Adult, 1 Egg Stage          N2A1               Yes  2007-11-16   \n",
       "3  Torgersen  Adult, 1 Egg Stage          N2A2               Yes  2007-11-16   \n",
       "4  Torgersen  Adult, 1 Egg Stage          N3A1               Yes  2007-11-16   \n",
       "5  Torgersen  Adult, 1 Egg Stage          N3A2               Yes  2007-11-16   \n",
       "6  Torgersen  Adult, 1 Egg Stage          N4A1                No  2007-11-15   \n",
       "7  Torgersen  Adult, 1 Egg Stage          N4A2                No  2007-11-15   \n",
       "8  Torgersen  Adult, 1 Egg Stage          N5A1               Yes  2007-11-09   \n",
       "9  Torgersen  Adult, 1 Egg Stage          N5A2               Yes  2007-11-09   \n",
       "\n",
       "   Culmen Length (mm)  Culmen Depth (mm)  Flipper Length (mm)  Body Mass (g)  \\\n",
       "0                39.1               18.7                181.0         3750.0   \n",
       "1                39.5               17.4                186.0         3800.0   \n",
       "2                40.3               18.0                195.0         3250.0   \n",
       "3                 NaN                NaN                  NaN            NaN   \n",
       "4                36.7               19.3                193.0         3450.0   \n",
       "5                39.3               20.6                190.0         3650.0   \n",
       "6                38.9               17.8                181.0         3625.0   \n",
       "7                39.2               19.6                195.0         4675.0   \n",
       "8                34.1               18.1                193.0         3475.0   \n",
       "9                42.0               20.2                190.0         4250.0   \n",
       "\n",
       "      Sex  Delta 15 N (o/oo)  Delta 13 C (o/oo)  \\\n",
       "0    MALE                NaN                NaN   \n",
       "1  FEMALE            8.94956          -24.69454   \n",
       "2  FEMALE            8.36821          -25.33302   \n",
       "3     NaN                NaN                NaN   \n",
       "4  FEMALE            8.76651          -25.32426   \n",
       "5    MALE            8.66496          -25.29805   \n",
       "6  FEMALE            9.18718          -25.21799   \n",
       "7    MALE            9.46060          -24.89958   \n",
       "8     NaN                NaN                NaN   \n",
       "9     NaN            9.13362          -25.09368   \n",
       "\n",
       "                                Comments  \n",
       "0         Not enough blood for isotopes.  \n",
       "1                                    NaN  \n",
       "2                                    NaN  \n",
       "3                     Adult not sampled.  \n",
       "4                                    NaN  \n",
       "5                                    NaN  \n",
       "6  Nest never observed with full clutch.  \n",
       "7  Nest never observed with full clutch.  \n",
       "8              No blood sample obtained.  \n",
       "9   No blood sample obtained for sexing.  "
      ],
      "text/html": "<div>\n<style scoped>\n    .dataframe tbody tr th:only-of-type {\n        vertical-align: middle;\n    }\n\n    .dataframe tbody tr th {\n        vertical-align: top;\n    }\n\n    .dataframe thead th {\n        text-align: right;\n    }\n</style>\n<table border=\"1\" class=\"dataframe\">\n  <thead>\n    <tr style=\"text-align: right;\">\n      <th></th>\n      <th>studyName</th>\n      <th>Sample Number</th>\n      <th>Species</th>\n      <th>Region</th>\n      <th>Island</th>\n      <th>Stage</th>\n      <th>Individual ID</th>\n      <th>Clutch Completion</th>\n      <th>Date Egg</th>\n      <th>Culmen Length (mm)</th>\n      <th>Culmen Depth (mm)</th>\n      <th>Flipper Length (mm)</th>\n      <th>Body Mass (g)</th>\n      <th>Sex</th>\n      <th>Delta 15 N (o/oo)</th>\n      <th>Delta 13 C (o/oo)</th>\n      <th>Comments</th>\n    </tr>\n  </thead>\n  <tbody>\n    <tr>\n      <th>0</th>\n      <td>PAL0708</td>\n      <td>1</td>\n      <td>Adelie Penguin (Pygoscelis adeliae)</td>\n      <td>Anvers</td>\n      <td>Torgersen</td>\n      <td>Adult, 1 Egg Stage</td>\n      <td>N1A1</td>\n      <td>Yes</td>\n      <td>2007-11-11</td>\n      <td>39.1</td>\n      <td>18.7</td>\n      <td>181.0</td>\n      <td>3750.0</td>\n      <td>MALE</td>\n      <td>NaN</td>\n      <td>NaN</td>\n      <td>Not enough blood for isotopes.</td>\n    </tr>\n    <tr>\n      <th>1</th>\n      <td>PAL0708</td>\n      <td>2</td>\n      <td>Adelie Penguin (Pygoscelis adeliae)</td>\n      <td>Anvers</td>\n      <td>Torgersen</td>\n      <td>Adult, 1 Egg Stage</td>\n      <td>N1A2</td>\n      <td>Yes</td>\n      <td>2007-11-11</td>\n      <td>39.5</td>\n      <td>17.4</td>\n      <td>186.0</td>\n      <td>3800.0</td>\n      <td>FEMALE</td>\n      <td>8.94956</td>\n      <td>-24.69454</td>\n      <td>NaN</td>\n    </tr>\n    <tr>\n      <th>2</th>\n      <td>PAL0708</td>\n      <td>3</td>\n      <td>Adelie Penguin (Pygoscelis adeliae)</td>\n      <td>Anvers</td>\n      <td>Torgersen</td>\n      <td>Adult, 1 Egg Stage</td>\n      <td>N2A1</td>\n      <td>Yes</td>\n      <td>2007-11-16</td>\n      <td>40.3</td>\n      <td>18.0</td>\n      <td>195.0</td>\n      <td>3250.0</td>\n      <td>FEMALE</td>\n      <td>8.36821</td>\n      <td>-25.33302</td>\n      <td>NaN</td>\n    </tr>\n    <tr>\n      <th>3</th>\n      <td>PAL0708</td>\n      <td>4</td>\n      <td>Adelie Penguin (Pygoscelis adeliae)</td>\n      <td>Anvers</td>\n      <td>Torgersen</td>\n      <td>Adult, 1 Egg Stage</td>\n      <td>N2A2</td>\n      <td>Yes</td>\n      <td>2007-11-16</td>\n      <td>NaN</td>\n      <td>NaN</td>\n      <td>NaN</td>\n      <td>NaN</td>\n      <td>NaN</td>\n      <td>NaN</td>\n      <td>NaN</td>\n      <td>Adult not sampled.</td>\n    </tr>\n    <tr>\n      <th>4</th>\n      <td>PAL0708</td>\n      <td>5</td>\n      <td>Adelie Penguin (Pygoscelis adeliae)</td>\n      <td>Anvers</td>\n      <td>Torgersen</td>\n      <td>Adult, 1 Egg Stage</td>\n      <td>N3A1</td>\n      <td>Yes</td>\n      <td>2007-11-16</td>\n      <td>36.7</td>\n      <td>19.3</td>\n      <td>193.0</td>\n      <td>3450.0</td>\n      <td>FEMALE</td>\n      <td>8.76651</td>\n      <td>-25.32426</td>\n      <td>NaN</td>\n    </tr>\n    <tr>\n      <th>5</th>\n      <td>PAL0708</td>\n      <td>6</td>\n      <td>Adelie Penguin (Pygoscelis adeliae)</td>\n      <td>Anvers</td>\n      <td>Torgersen</td>\n      <td>Adult, 1 Egg Stage</td>\n      <td>N3A2</td>\n      <td>Yes</td>\n      <td>2007-11-16</td>\n      <td>39.3</td>\n      <td>20.6</td>\n      <td>190.0</td>\n      <td>3650.0</td>\n      <td>MALE</td>\n      <td>8.66496</td>\n      <td>-25.29805</td>\n      <td>NaN</td>\n    </tr>\n    <tr>\n      <th>6</th>\n      <td>PAL0708</td>\n      <td>7</td>\n      <td>Adelie Penguin (Pygoscelis adeliae)</td>\n      <td>Anvers</td>\n      <td>Torgersen</td>\n      <td>Adult, 1 Egg Stage</td>\n      <td>N4A1</td>\n      <td>No</td>\n      <td>2007-11-15</td>\n      <td>38.9</td>\n      <td>17.8</td>\n      <td>181.0</td>\n      <td>3625.0</td>\n      <td>FEMALE</td>\n      <td>9.18718</td>\n      <td>-25.21799</td>\n      <td>Nest never observed with full clutch.</td>\n    </tr>\n    <tr>\n      <th>7</th>\n      <td>PAL0708</td>\n      <td>8</td>\n      <td>Adelie Penguin (Pygoscelis adeliae)</td>\n      <td>Anvers</td>\n      <td>Torgersen</td>\n      <td>Adult, 1 Egg Stage</td>\n      <td>N4A2</td>\n      <td>No</td>\n      <td>2007-11-15</td>\n      <td>39.2</td>\n      <td>19.6</td>\n      <td>195.0</td>\n      <td>4675.0</td>\n      <td>MALE</td>\n      <td>9.46060</td>\n      <td>-24.89958</td>\n      <td>Nest never observed with full clutch.</td>\n    </tr>\n    <tr>\n      <th>8</th>\n      <td>PAL0708</td>\n      <td>9</td>\n      <td>Adelie Penguin (Pygoscelis adeliae)</td>\n      <td>Anvers</td>\n      <td>Torgersen</td>\n      <td>Adult, 1 Egg Stage</td>\n      <td>N5A1</td>\n      <td>Yes</td>\n      <td>2007-11-09</td>\n      <td>34.1</td>\n      <td>18.1</td>\n      <td>193.0</td>\n      <td>3475.0</td>\n      <td>NaN</td>\n      <td>NaN</td>\n      <td>NaN</td>\n      <td>No blood sample obtained.</td>\n    </tr>\n    <tr>\n      <th>9</th>\n      <td>PAL0708</td>\n      <td>10</td>\n      <td>Adelie Penguin (Pygoscelis adeliae)</td>\n      <td>Anvers</td>\n      <td>Torgersen</td>\n      <td>Adult, 1 Egg Stage</td>\n      <td>N5A2</td>\n      <td>Yes</td>\n      <td>2007-11-09</td>\n      <td>42.0</td>\n      <td>20.2</td>\n      <td>190.0</td>\n      <td>4250.0</td>\n      <td>NaN</td>\n      <td>9.13362</td>\n      <td>-25.09368</td>\n      <td>No blood sample obtained for sexing.</td>\n    </tr>\n  </tbody>\n</table>\n</div>"
     },
     "metadata": {},
     "execution_count": 12
    }
   ],
   "source": [
    "import pandas as pd\n",
    "import numpy as np\n",
    "import matplotlib.pyplot as plt\n",
    "\n",
    "penguins = pd.read_csv(r\"C:\\Users\\Laura\\Desktop\\S2DS_technical2\\data\\penguins.csv\")\n",
    "\n",
    "penguins_raw = pd.read_csv(r\"C:\\Users\\Laura\\Desktop\\S2DS_technical2\\data\\penguins_raw.csv\")\n",
    "\n",
    "#penguins.head(10)\n",
    "\n",
    "penguins_raw.head(10)"
   ]
  },
  {
   "cell_type": "markdown",
   "metadata": {},
   "source": [
    "***"
   ]
  },
  {
   "cell_type": "markdown",
   "metadata": {},
   "source": [
    "## Question 01\n",
    "How many columns are in the `penguins_raw.csv` dataset?"
   ]
  },
  {
   "cell_type": "code",
   "execution_count": 10,
   "metadata": {},
   "outputs": [
    {
     "output_type": "stream",
     "name": "stdout",
     "text": [
      "<class 'pandas.core.frame.DataFrame'>\nRangeIndex: 344 entries, 0 to 343\nData columns (total 17 columns):\n #   Column               Non-Null Count  Dtype  \n---  ------               --------------  -----  \n 0   studyName            344 non-null    object \n 1   Sample Number        344 non-null    int64  \n 2   Species              344 non-null    object \n 3   Region               344 non-null    object \n 4   Island               344 non-null    object \n 5   Stage                344 non-null    object \n 6   Individual ID        344 non-null    object \n 7   Clutch Completion    344 non-null    object \n 8   Date Egg             344 non-null    object \n 9   Culmen Length (mm)   342 non-null    float64\n 10  Culmen Depth (mm)    342 non-null    float64\n 11  Flipper Length (mm)  342 non-null    float64\n 12  Body Mass (g)        342 non-null    float64\n 13  Sex                  333 non-null    object \n 14  Delta 15 N (o/oo)    330 non-null    float64\n 15  Delta 13 C (o/oo)    331 non-null    float64\n 16  Comments             54 non-null     object \ndtypes: float64(6), int64(1), object(10)\nmemory usage: 32.3+ KB\n"
     ]
    }
   ],
   "source": [
    "penguins_raw.info()"
   ]
  },
  {
   "cell_type": "markdown",
   "metadata": {},
   "source": [
    "**Answer:**"
   ]
  },
  {
   "source": [
    "17 columns"
   ],
   "cell_type": "markdown",
   "metadata": {}
  },
  {
   "cell_type": "markdown",
   "metadata": {},
   "source": [
    "***"
   ]
  },
  {
   "cell_type": "markdown",
   "metadata": {},
   "source": [
    "## Question 02\n",
    "How many distinct islands are represented in the dataset?"
   ]
  },
  {
   "cell_type": "code",
   "execution_count": 11,
   "metadata": {},
   "outputs": [
    {
     "output_type": "execute_result",
     "data": {
      "text/plain": [
       "array(['Torgersen', 'Biscoe', 'Dream'], dtype=object)"
      ]
     },
     "metadata": {},
     "execution_count": 11
    }
   ],
   "source": [
    "penguins_raw[\"Island\"].unique()"
   ]
  },
  {
   "cell_type": "markdown",
   "metadata": {},
   "source": [
    "**Answer:**"
   ]
  },
  {
   "source": [
    "3 islands 'Torgersen', 'Biscoe', 'Dream'"
   ],
   "cell_type": "markdown",
   "metadata": {}
  },
  {
   "cell_type": "markdown",
   "metadata": {},
   "source": [
    "***"
   ]
  },
  {
   "cell_type": "markdown",
   "metadata": {},
   "source": [
    "## Question 03\n",
    "How many Chinstrap Penguins are found on Dream Island in the `penguins.csv` dataset?\n"
   ]
  },
  {
   "cell_type": "code",
   "execution_count": 27,
   "metadata": {},
   "outputs": [
    {
     "output_type": "stream",
     "name": "stdout",
     "text": [
      "<class 'pandas.core.frame.DataFrame'>\nInt64Index: 68 entries, 276 to 343\nData columns (total 8 columns):\n #   Column             Non-Null Count  Dtype  \n---  ------             --------------  -----  \n 0   species            68 non-null     object \n 1   island             68 non-null     object \n 2   bill_length_mm     68 non-null     float64\n 3   bill_depth_mm      68 non-null     float64\n 4   flipper_length_mm  68 non-null     float64\n 5   body_mass_g        68 non-null     float64\n 6   sex                68 non-null     object \n 7   year               68 non-null     int64  \ndtypes: float64(4), int64(1), object(3)\nmemory usage: 4.0+ KB\n"
     ]
    }
   ],
   "source": [
    "#penguins.head()\n",
    "\n",
    "chinstrap_penguins = penguins[penguins[\"species\"] == \"Chinstrap\"]\n",
    "#chinstrap_penguins.info()\n",
    "dream_island_chinstrap = chinstrap_penguins[chinstrap_penguins[\"island\"] == \"Dream\"]\n",
    "dream_island_chinstrap.info()"
   ]
  },
  {
   "cell_type": "markdown",
   "metadata": {},
   "source": [
    "**Answer:**"
   ]
  },
  {
   "source": [
    "68 penguins"
   ],
   "cell_type": "markdown",
   "metadata": {}
  },
  {
   "cell_type": "markdown",
   "metadata": {},
   "source": [
    "***"
   ]
  },
  {
   "cell_type": "markdown",
   "metadata": {},
   "source": [
    "## Question 04\n",
    "What is the date of the first recording (column `Date Egg`) in the `penguins_raw.csv`?"
   ]
  },
  {
   "cell_type": "code",
   "execution_count": 46,
   "metadata": {},
   "outputs": [
    {
     "output_type": "execute_result",
     "data": {
      "text/plain": [
       "Timestamp('2007-11-11 00:00:00')"
      ]
     },
     "metadata": {},
     "execution_count": 46
    }
   ],
   "source": [
    "penguins_raw[\"Date Egg\"] = pd.to_datetime(penguins_raw[\"Date Egg\"])\n",
    "\n",
    "first_date = penguins_raw[\"Date Egg\"][0]\n",
    "\n",
    "first_date"
   ]
  },
  {
   "cell_type": "markdown",
   "metadata": {},
   "source": [
    "**Answer:**"
   ]
  },
  {
   "source": [
    "date of first recording is 2007-11-11 "
   ],
   "cell_type": "markdown",
   "metadata": {}
  },
  {
   "cell_type": "markdown",
   "metadata": {},
   "source": [
    "***"
   ]
  },
  {
   "cell_type": "markdown",
   "metadata": {},
   "source": [
    "## Question 05\n",
    "What day of week was this?"
   ]
  },
  {
   "cell_type": "code",
   "execution_count": 51,
   "metadata": {},
   "outputs": [
    {
     "output_type": "execute_result",
     "data": {
      "text/plain": [
       "'Sunday'"
      ]
     },
     "metadata": {},
     "execution_count": 51
    }
   ],
   "source": [
    "first_date.day_name()"
   ]
  },
  {
   "cell_type": "markdown",
   "metadata": {},
   "source": [
    "**Answer:**"
   ]
  },
  {
   "source": [
    "it was Sunday"
   ],
   "cell_type": "markdown",
   "metadata": {}
  },
  {
   "cell_type": "markdown",
   "metadata": {},
   "source": [
    "***"
   ]
  },
  {
   "cell_type": "markdown",
   "metadata": {},
   "source": [
    "## Question 06\n",
    "What is the median body mass of male Adelie penguins in the `penguins.csv` dataset?"
   ]
  },
  {
   "cell_type": "code",
   "execution_count": 58,
   "metadata": {},
   "outputs": [
    {
     "output_type": "execute_result",
     "data": {
      "text/plain": [
       "4000.0"
      ]
     },
     "metadata": {},
     "execution_count": 58
    }
   ],
   "source": [
    "\n",
    "adelie = penguins[penguins[\"species\"] == \"Adelie\"]\n",
    "adelie_males = adelie[adelie[\"sex\"] == \"male\"]\n",
    "\n",
    "median_male = adelie_males[\"body_mass_g\"].median()\n",
    "\n",
    "median_male\n",
    "#penguins.head()"
   ]
  },
  {
   "cell_type": "markdown",
   "metadata": {},
   "source": [
    "**Answer:**"
   ]
  },
  {
   "source": [
    "4000.0 g"
   ],
   "cell_type": "markdown",
   "metadata": {}
  },
  {
   "cell_type": "markdown",
   "metadata": {},
   "source": [
    "***"
   ]
  },
  {
   "cell_type": "markdown",
   "metadata": {},
   "source": [
    "## Question 07\n",
    "What is the mean body mass of male Adelie penguins in the `penguins.csv` dataset (rounded to the nearest gram)?"
   ]
  },
  {
   "cell_type": "code",
   "execution_count": 60,
   "metadata": {},
   "outputs": [
    {
     "output_type": "execute_result",
     "data": {
      "text/plain": [
       "4043.0"
      ]
     },
     "metadata": {},
     "execution_count": 60
    }
   ],
   "source": [
    "mean_male = adelie_males[\"body_mass_g\"].mean().round()\n",
    "\n",
    "mean_male"
   ]
  },
  {
   "cell_type": "markdown",
   "metadata": {},
   "source": [
    "**Answer:**"
   ]
  },
  {
   "source": [
    "4043.0 g"
   ],
   "cell_type": "markdown",
   "metadata": {}
  },
  {
   "cell_type": "markdown",
   "metadata": {},
   "source": [
    "***"
   ]
  },
  {
   "cell_type": "markdown",
   "metadata": {},
   "source": [
    "## Question 08\n",
    "Please show how you would create a plot showing the differences in the distributions of flipper length (`penguins.csv`) between males and females and **across species**."
   ]
  },
  {
   "cell_type": "code",
   "execution_count": 63,
   "metadata": {},
   "outputs": [],
   "source": []
  },
  {
   "cell_type": "markdown",
   "metadata": {},
   "source": [
    "## Question 09\n",
    "Please write a function that generalises the approach you used in Question 08 to show the distribution of any variable between males and females across species. The function should take one parameter as input, the variable name as a string."
   ]
  },
  {
   "cell_type": "code",
   "execution_count": null,
   "metadata": {},
   "outputs": [],
   "source": []
  },
  {
   "cell_type": "markdown",
   "metadata": {},
   "source": [
    "## Question 10\n",
    "One might predict that as penguin bills get longer, they would also increase depth. What is the correlation between these two variables in the `penguins.csv` dataset (if you remove missing values)? Please round to two decimal place."
   ]
  },
  {
   "cell_type": "code",
   "execution_count": null,
   "metadata": {},
   "outputs": [],
   "source": []
  },
  {
   "cell_type": "markdown",
   "metadata": {},
   "source": [
    "**Answer:**"
   ]
  },
  {
   "cell_type": "code",
   "execution_count": null,
   "metadata": {},
   "outputs": [],
   "source": []
  },
  {
   "cell_type": "markdown",
   "metadata": {},
   "source": [
    "***"
   ]
  },
  {
   "cell_type": "markdown",
   "metadata": {},
   "source": [
    "## Question 11\n",
    "The hypothesis posed in Question 10 appears to be incorrect. This is verified by the scatter plot below:"
   ]
  },
  {
   "cell_type": "markdown",
   "metadata": {},
   "source": [
    "![](data/q10.png)"
   ]
  },
  {
   "cell_type": "markdown",
   "metadata": {},
   "source": [
    "Please show us ways you might investigate this further. (Hint: Consider other variable that might be confounding the observed effect)"
   ]
  },
  {
   "cell_type": "code",
   "execution_count": null,
   "metadata": {},
   "outputs": [],
   "source": []
  }
 ],
 "metadata": {
  "kernelspec": {
   "display_name": "Python 3",
   "language": "python",
   "name": "python3"
  },
  "language_info": {
   "codemirror_mode": {
    "name": "ipython",
    "version": 3
   },
   "file_extension": ".py",
   "mimetype": "text/x-python",
   "name": "python",
   "nbconvert_exporter": "python",
   "pygments_lexer": "ipython3",
   "version": "3.8.5-final"
  }
 },
 "nbformat": 4,
 "nbformat_minor": 4
}