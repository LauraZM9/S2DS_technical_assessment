{
 "cells": [
  {
   "cell_type": "markdown",
   "metadata": {},
   "source": [
    "# S2DS technical assessment\n",
    "\n",
    "---\n",
    "\n"
   ]
  },
  {
   "cell_type": "markdown",
   "metadata": {},
   "source": [
    "# Background\n",
    "This exercise will use the [Palmer penguins](https://allisonhorst.github.io/palmerpenguins/articles/art.html) dataset. It contains two tables: the raw data are contained in `penguins_raw.csv` and `penguins.csv` is a curated subset of these data. You will need both for this exercise. A description of the dataset can be found [here](https://education.rstudio.com/blog/2020/07/palmerpenguins-cran/) that includes the following background information:\n",
    "\n",
    "> The `palmerpenguins` data contains size measurements, clutch observations, and blood isotope ratios for three penguin species observed on three islands in the Palmer Archipelago, Antarctica over a study period of three years. These data were collected from 2007 - 2009 by Dr. Kristen Gorman with the Palmer Station Long Term Ecological Research Program, part of the US Long Term Ecological Research Network. The data were imported directly from the Environmental Data Initiative (EDI) Data Portal, and are available for use by CC0 license (“No Rights Reserved”) in accordance with the Palmer Station Data Policy. We gratefully acknowledge Palmer Station LTER and the US LTER Network. Special thanks to Marty Downs (Director, LTER Network Office) for help regarding the data license & use. \n",
    "\n",
    "This exercise will help Pivigo understand your coding and technical skills. It is designed to be difficult to complete in the time allowed, so don't be discouraged if you can't complete all of the questions. \n",
    "\n",
    "**Please take the time to read each question carefully!** \n",
    "\n",
    "Good luck!"
   ]
  },
  {
   "cell_type": "markdown",
   "metadata": {},
   "source": [
    "# Setup\n",
    "Install libraries and load data."
   ]
  },
  {
   "cell_type": "code",
   "execution_count": 2,
   "metadata": {},
   "outputs": [],
   "source": [
    "import pandas as pd\n",
    "import numpy as np\n",
    "import matplotlib.pyplot as plt\n",
    "\n",
    "penguins = pd.read_csv(r\"C:\\Users\\Laura\\Desktop\\S2DS_technical2\\data\\penguins.csv\")\n",
    "\n",
    "penguins_raw = pd.read_csv(r\"C:\\Users\\Laura\\Desktop\\S2DS_technical2\\data\\penguins_raw.csv\")\n",
    "\n",
    "#penguins.head(10)\n",
    "#penguins_raw.head(10)"
   ]
  },
  {
   "cell_type": "markdown",
   "metadata": {},
   "source": [
    "***"
   ]
  },
  {
   "cell_type": "markdown",
   "metadata": {},
   "source": [
    "## Question 01\n",
    "How many columns are in the `penguins_raw.csv` dataset?"
   ]
  },
  {
   "cell_type": "code",
   "execution_count": 3,
   "metadata": {},
   "outputs": [
    {
     "output_type": "stream",
     "name": "stdout",
     "text": [
      "<class 'pandas.core.frame.DataFrame'>\nRangeIndex: 344 entries, 0 to 343\nData columns (total 17 columns):\n #   Column               Non-Null Count  Dtype  \n---  ------               --------------  -----  \n 0   studyName            344 non-null    object \n 1   Sample Number        344 non-null    int64  \n 2   Species              344 non-null    object \n 3   Region               344 non-null    object \n 4   Island               344 non-null    object \n 5   Stage                344 non-null    object \n 6   Individual ID        344 non-null    object \n 7   Clutch Completion    344 non-null    object \n 8   Date Egg             344 non-null    object \n 9   Culmen Length (mm)   342 non-null    float64\n 10  Culmen Depth (mm)    342 non-null    float64\n 11  Flipper Length (mm)  342 non-null    float64\n 12  Body Mass (g)        342 non-null    float64\n 13  Sex                  333 non-null    object \n 14  Delta 15 N (o/oo)    330 non-null    float64\n 15  Delta 13 C (o/oo)    331 non-null    float64\n 16  Comments             54 non-null     object \ndtypes: float64(6), int64(1), object(10)\nmemory usage: 32.3+ KB\n"
     ]
    }
   ],
   "source": [
    "penguins_raw.info()"
   ]
  },
  {
   "cell_type": "markdown",
   "metadata": {},
   "source": [
    "**Answer:**"
   ]
  },
  {
   "source": [
    "17 columns"
   ],
   "cell_type": "markdown",
   "metadata": {}
  },
  {
   "cell_type": "markdown",
   "metadata": {},
   "source": [
    "***"
   ]
  },
  {
   "cell_type": "markdown",
   "metadata": {},
   "source": [
    "## Question 02\n",
    "How many distinct islands are represented in the dataset?"
   ]
  },
  {
   "cell_type": "code",
   "execution_count": 4,
   "metadata": {},
   "outputs": [
    {
     "output_type": "execute_result",
     "data": {
      "text/plain": [
       "array(['Torgersen', 'Biscoe', 'Dream'], dtype=object)"
      ]
     },
     "metadata": {},
     "execution_count": 4
    }
   ],
   "source": [
    "penguins_raw[\"Island\"].unique()"
   ]
  },
  {
   "cell_type": "markdown",
   "metadata": {},
   "source": [
    "**Answer:**"
   ]
  },
  {
   "source": [
    "3 islands 'Torgersen', 'Biscoe', 'Dream'"
   ],
   "cell_type": "markdown",
   "metadata": {}
  },
  {
   "cell_type": "markdown",
   "metadata": {},
   "source": [
    "***"
   ]
  },
  {
   "cell_type": "markdown",
   "metadata": {},
   "source": [
    "## Question 03\n",
    "How many Chinstrap Penguins are found on Dream Island in the `penguins.csv` dataset?\n"
   ]
  },
  {
   "cell_type": "code",
   "execution_count": 5,
   "metadata": {},
   "outputs": [
    {
     "output_type": "stream",
     "name": "stdout",
     "text": [
      "<class 'pandas.core.frame.DataFrame'>\nInt64Index: 68 entries, 276 to 343\nData columns (total 8 columns):\n #   Column             Non-Null Count  Dtype  \n---  ------             --------------  -----  \n 0   species            68 non-null     object \n 1   island             68 non-null     object \n 2   bill_length_mm     68 non-null     float64\n 3   bill_depth_mm      68 non-null     float64\n 4   flipper_length_mm  68 non-null     float64\n 5   body_mass_g        68 non-null     float64\n 6   sex                68 non-null     object \n 7   year               68 non-null     int64  \ndtypes: float64(4), int64(1), object(3)\nmemory usage: 4.0+ KB\n"
     ]
    }
   ],
   "source": [
    "#penguins.head()\n",
    "\n",
    "chinstrap_penguins = penguins[penguins[\"species\"] == \"Chinstrap\"]\n",
    "#chinstrap_penguins.info()\n",
    "dream_island_chinstrap = chinstrap_penguins[chinstrap_penguins[\"island\"] == \"Dream\"]\n",
    "dream_island_chinstrap.info()"
   ]
  },
  {
   "cell_type": "markdown",
   "metadata": {},
   "source": [
    "**Answer:**"
   ]
  },
  {
   "source": [
    "68 penguins"
   ],
   "cell_type": "markdown",
   "metadata": {}
  },
  {
   "cell_type": "markdown",
   "metadata": {},
   "source": [
    "***"
   ]
  },
  {
   "cell_type": "markdown",
   "metadata": {},
   "source": [
    "## Question 04\n",
    "What is the date of the first recording (column `Date Egg`) in the `penguins_raw.csv`?"
   ]
  },
  {
   "cell_type": "code",
   "execution_count": 6,
   "metadata": {},
   "outputs": [
    {
     "output_type": "execute_result",
     "data": {
      "text/plain": [
       "Timestamp('2007-11-11 00:00:00')"
      ]
     },
     "metadata": {},
     "execution_count": 6
    }
   ],
   "source": [
    "penguins_raw[\"Date Egg\"] = pd.to_datetime(penguins_raw[\"Date Egg\"])\n",
    "\n",
    "first_date = penguins_raw[\"Date Egg\"][0]\n",
    "\n",
    "first_date"
   ]
  },
  {
   "cell_type": "markdown",
   "metadata": {},
   "source": [
    "**Answer:**"
   ]
  },
  {
   "source": [
    "date of first recording is 2007-11-11 "
   ],
   "cell_type": "markdown",
   "metadata": {}
  },
  {
   "cell_type": "markdown",
   "metadata": {},
   "source": [
    "***"
   ]
  },
  {
   "cell_type": "markdown",
   "metadata": {},
   "source": [
    "## Question 05\n",
    "What day of week was this?"
   ]
  },
  {
   "cell_type": "code",
   "execution_count": 7,
   "metadata": {},
   "outputs": [
    {
     "output_type": "execute_result",
     "data": {
      "text/plain": [
       "'Sunday'"
      ]
     },
     "metadata": {},
     "execution_count": 7
    }
   ],
   "source": [
    "first_date.day_name()"
   ]
  },
  {
   "cell_type": "markdown",
   "metadata": {},
   "source": [
    "**Answer:**"
   ]
  },
  {
   "source": [
    "it was Sunday"
   ],
   "cell_type": "markdown",
   "metadata": {}
  },
  {
   "cell_type": "markdown",
   "metadata": {},
   "source": [
    "***"
   ]
  },
  {
   "cell_type": "markdown",
   "metadata": {},
   "source": [
    "## Question 06\n",
    "What is the median body mass of male Adelie penguins in the `penguins.csv` dataset?"
   ]
  },
  {
   "cell_type": "code",
   "execution_count": 8,
   "metadata": {},
   "outputs": [
    {
     "output_type": "execute_result",
     "data": {
      "text/plain": [
       "4000.0"
      ]
     },
     "metadata": {},
     "execution_count": 8
    }
   ],
   "source": [
    "\n",
    "adelie = penguins[penguins[\"species\"] == \"Adelie\"]\n",
    "adelie_males = adelie[adelie[\"sex\"] == \"male\"]\n",
    "\n",
    "median_male = adelie_males[\"body_mass_g\"].median()\n",
    "\n",
    "median_male\n",
    "#penguins.head()"
   ]
  },
  {
   "cell_type": "markdown",
   "metadata": {},
   "source": [
    "**Answer:**"
   ]
  },
  {
   "source": [
    "4000.0 g"
   ],
   "cell_type": "markdown",
   "metadata": {}
  },
  {
   "cell_type": "markdown",
   "metadata": {},
   "source": [
    "***"
   ]
  },
  {
   "cell_type": "markdown",
   "metadata": {},
   "source": [
    "## Question 07\n",
    "What is the mean body mass of male Adelie penguins in the `penguins.csv` dataset (rounded to the nearest gram)?"
   ]
  },
  {
   "cell_type": "code",
   "execution_count": 9,
   "metadata": {},
   "outputs": [
    {
     "output_type": "execute_result",
     "data": {
      "text/plain": [
       "4043.0"
      ]
     },
     "metadata": {},
     "execution_count": 9
    }
   ],
   "source": [
    "mean_male = adelie_males[\"body_mass_g\"].mean().round()\n",
    "\n",
    "mean_male"
   ]
  },
  {
   "cell_type": "markdown",
   "metadata": {},
   "source": [
    "**Answer:**"
   ]
  },
  {
   "source": [
    "4043.0 g"
   ],
   "cell_type": "markdown",
   "metadata": {}
  },
  {
   "cell_type": "markdown",
   "metadata": {},
   "source": [
    "***"
   ]
  },
  {
   "cell_type": "markdown",
   "metadata": {},
   "source": [
    "## Question 08\n",
    "Please show how you would create a plot showing the differences in the distributions of flipper length (`penguins.csv`) between males and females and **across species**."
   ]
  },
  {
   "cell_type": "code",
   "execution_count": 37,
   "metadata": {},
   "outputs": [
    {
     "output_type": "execute_result",
     "data": {
      "text/plain": [
       "species               object\n",
       "island                object\n",
       "bill_length_mm       float64\n",
       "bill_depth_mm        float64\n",
       "flipper_length_mm    float64\n",
       "body_mass_g          float64\n",
       "sex                   object\n",
       "year                   int64\n",
       "dtype: object"
      ]
     },
     "metadata": {},
     "execution_count": 37
    }
   ],
   "source": [
    "male = penguins[penguins[\"sex\"] == \"male\"]\n",
    "female = penguins[penguins[\"sex\"] == \"female\"]\n",
    "\n",
    "#N = 3\n",
    "\n",
    "#blue_bar = male[\"flipper_length_mm\"]\n",
    "\n",
    "#orange_bar = female[\"flipper_length_mm\"]\n",
    "\n",
    "#ind = np.arange(N)\n",
    "\n",
    "#plt.figure(figsize=(10,5))\n",
    "\n",
    "#width = 0.1\n",
    "\n",
    "#plt.bar(ind, blue_bar , width, label='Male')\n",
    "#plt.bar(ind + width, orange_bar, width, label='Female Penguins')\n",
    "\n",
    "#plt.xlabel('Species')\n",
    "#plt.ylabel('Flipper length (mm)')\n",
    "#plt.title('Flipper Length Between Male and Female Penguins and Across Species')\n",
    "\n",
    "# xticks()\n",
    "#plt.xticks(ind + width / 2, penguins[\"species\"].unique())\n",
    "\n",
    "#plt.legend(loc='best')\n",
    "#plt.show()\n",
    "\n",
    "penguins.dtypes"
   ]
  },
  {
   "cell_type": "markdown",
   "metadata": {},
   "source": [
    "## Question 09\n",
    "Please write a function that generalises the approach you used in Question 08 to show the distribution of any variable between males and females across species. The function should take one parameter as input, the variable name as a string."
   ]
  },
  {
   "cell_type": "code",
   "execution_count": null,
   "metadata": {},
   "outputs": [],
   "source": [
    "def sex_distribution(name):\n",
    "    "
   ]
  },
  {
   "cell_type": "markdown",
   "metadata": {},
   "source": [
    "## Question 10\n",
    "One might predict that as penguin bills get longer, they would also increase depth. What is the correlation between these two variables in the `penguins.csv` dataset (if you remove missing values)? Please round to two decimal place."
   ]
  },
  {
   "cell_type": "code",
   "execution_count": null,
   "metadata": {},
   "outputs": [],
   "source": []
  },
  {
   "cell_type": "markdown",
   "metadata": {},
   "source": [
    "**Answer:**"
   ]
  },
  {
   "cell_type": "code",
   "execution_count": null,
   "metadata": {},
   "outputs": [],
   "source": []
  },
  {
   "cell_type": "markdown",
   "metadata": {},
   "source": [
    "***"
   ]
  },
  {
   "cell_type": "markdown",
   "metadata": {},
   "source": [
    "## Question 11\n",
    "The hypothesis posed in Question 10 appears to be incorrect. This is verified by the scatter plot below:"
   ]
  },
  {
   "cell_type": "markdown",
   "metadata": {},
   "source": [
    "![](data/q10.png)"
   ]
  },
  {
   "cell_type": "markdown",
   "metadata": {},
   "source": [
    "Please show us ways you might investigate this further. (Hint: Consider other variable that might be confounding the observed effect)"
   ]
  },
  {
   "cell_type": "code",
   "execution_count": null,
   "metadata": {},
   "outputs": [],
   "source": []
  }
 ],
 "metadata": {
  "kernelspec": {
   "display_name": "Python 3",
   "language": "python",
   "name": "python3"
  },
  "language_info": {
   "codemirror_mode": {
    "name": "ipython",
    "version": 3
   },
   "file_extension": ".py",
   "mimetype": "text/x-python",
   "name": "python",
   "nbconvert_exporter": "python",
   "pygments_lexer": "ipython3",
   "version": "3.8.5-final"
  }
 },
 "nbformat": 4,
 "nbformat_minor": 4
}